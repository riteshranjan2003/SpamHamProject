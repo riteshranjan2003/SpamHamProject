{
 "cells": [
  {
   "cell_type": "markdown",
   "metadata": {},
   "source": [
    "## Spam Project\n"
   ]
  },
  {
   "cell_type": "code",
   "execution_count": 138,
   "metadata": {},
   "outputs": [],
   "source": [
    "corpus = [\n",
    "    \"hello python is awesome\",\n",
    "    \"python is modern language\",\n",
    "    \"hello how are you\",\n",
    "    \"i am awesome\",\n",
    "    \"this is best time\"\n",
    "]"
   ]
  },
  {
   "cell_type": "markdown",
   "metadata": {},
   "source": [
    "#### BoW(Bag of words)\n",
    "\n",
    "    a model which can extract information out of corpus\n",
    "\n",
    "1. Building Vocabulary"
   ]
  },
  {
   "cell_type": "markdown",
   "metadata": {},
   "source": [
    "    word to vector  -> d = { 'am': 0, 'are': 1, 'awesome': 2}\n",
    "    # i = d.get('awesome') # 2\n",
    "\n",
    "    vector to word  -> d = {0: 'am', 1: 'are', 2: 'awesome'}\n",
    "    # word = d.get(1) # are"
   ]
  },
  {
   "cell_type": "code",
   "execution_count": 139,
   "metadata": {},
   "outputs": [],
   "source": [
    "def build_vocab(corpus):\n",
    "    vocab = []\n",
    "    for document in corpus:\n",
    "        for word in document.split():\n",
    "            word = word.strip().lower()\n",
    "            if word not in vocab:\n",
    "                vocab.append(word)\n",
    "    vocab.sort()\n",
    "    w2v = { word:vector for vector,word in enumerate(vocab)}\n",
    "    v2w = { vector:word for vector,word in enumerate(vocab)}\n",
    "    \n",
    "    return w2v,v2w"
   ]
  },
  {
   "cell_type": "code",
   "execution_count": 140,
   "metadata": {},
   "outputs": [],
   "source": [
    "w2v,v2w = build_vocab(corpus)\n"
   ]
  },
  {
   "cell_type": "code",
   "execution_count": 141,
   "metadata": {},
   "outputs": [
    {
     "name": "stdout",
     "output_type": "stream",
     "text": [
      "{'am': 0, 'are': 1, 'awesome': 2, 'best': 3, 'hello': 4, 'how': 5, 'i': 6, 'is': 7, 'language': 8, 'modern': 9, 'python': 10, 'this': 11, 'time': 12, 'you': 13}\n"
     ]
    }
   ],
   "source": [
    "print(w2v)"
   ]
  },
  {
   "cell_type": "code",
   "execution_count": 142,
   "metadata": {},
   "outputs": [
    {
     "name": "stdout",
     "output_type": "stream",
     "text": [
      "{0: 'am', 1: 'are', 2: 'awesome', 3: 'best', 4: 'hello', 5: 'how', 6: 'i', 7: 'is', 8: 'language', 9: 'modern', 10: 'python', 11: 'this', 12: 'time', 13: 'you'}\n"
     ]
    }
   ],
   "source": [
    "print(v2w)"
   ]
  },
  {
   "cell_type": "code",
   "execution_count": 143,
   "metadata": {},
   "outputs": [
    {
     "data": {
      "text/plain": [
       "11"
      ]
     },
     "execution_count": 143,
     "metadata": {},
     "output_type": "execute_result"
    }
   ],
   "source": [
    "w2v['this']"
   ]
  },
  {
   "cell_type": "code",
   "execution_count": 144,
   "metadata": {},
   "outputs": [
    {
     "data": {
      "text/plain": [
       "'this'"
      ]
     },
     "execution_count": 144,
     "metadata": {},
     "output_type": "execute_result"
    }
   ],
   "source": [
    "v2w[11]"
   ]
  },
  {
   "cell_type": "code",
   "execution_count": 145,
   "metadata": {},
   "outputs": [
    {
     "data": {
      "text/plain": [
       "14"
      ]
     },
     "execution_count": 145,
     "metadata": {},
     "output_type": "execute_result"
    }
   ],
   "source": [
    "len(w2v)"
   ]
  },
  {
   "cell_type": "code",
   "execution_count": 146,
   "metadata": {},
   "outputs": [
    {
     "data": {
      "text/plain": [
       "['hello python is awesome',\n",
       " 'python is modern language',\n",
       " 'hello how are you',\n",
       " 'i am awesome',\n",
       " 'this is best time']"
      ]
     },
     "execution_count": 146,
     "metadata": {},
     "output_type": "execute_result"
    }
   ],
   "source": [
    "corpus\n",
    "# m = 5, n = 14"
   ]
  },
  {
   "cell_type": "code",
   "execution_count": 147,
   "metadata": {},
   "outputs": [],
   "source": [
    "from sklearn.base import BaseEstimator, TransformerMixin"
   ]
  },
  {
   "cell_type": "code",
   "execution_count": 148,
   "metadata": {},
   "outputs": [],
   "source": [
    "class Vectorizer(BaseEstimator, TransformerMixin):\n",
    "    def __init__(self):\n",
    "        self.vocab = []\n",
    "    def fit(self, corpus):\n",
    "        vocab = []\n",
    "        for document in corpus:\n",
    "            for word in document.split():\n",
    "                if word not in vocab:\n",
    "                    vocab.append(word)\n",
    "        vocab.sort()\n",
    "        self.vocab_ = { w:v for v,w in enumerate(vocab)}\n",
    "        self.vocab_ = {w:v for v,w in enumerate(vocab)}\n",
    "    def transform(self, corpus):\n",
    "        vectors = []\n",
    "        for document in corpus:\n",
    "            vector = [ 0 ] * self.vocab_size_\n",
    "            # [ 0, 0, 0, 0, 0, 0, 0, 0 ]\n",
    "            for word in document.split():\n",
    "                word = word.strip().lower()\n",
    "                if word in self.vocab_:\n",
    "                    i = self.vocab_[word]\n",
    "                    vector[i] += 1\n",
    "            vectors.append(vector)\n",
    "        return vectors"
   ]
  },
  {
   "cell_type": "code",
   "execution_count": 149,
   "metadata": {},
   "outputs": [],
   "source": [
    "corpus = [\n",
    "    \"hello python is awesome\",\n",
    "    \"python is modern language\",\n",
    "    \"hello how are you\",\n",
    "    \"i am awesome\",\n",
    "    \"this is best time\"\n",
    "]"
   ]
  },
  {
   "cell_type": "code",
   "execution_count": 150,
   "metadata": {},
   "outputs": [],
   "source": [
    "vector = Vectorizer()"
   ]
  },
  {
   "cell_type": "code",
   "execution_count": 151,
   "metadata": {},
   "outputs": [],
   "source": [
    "vector.fit(corpus)"
   ]
  },
  {
   "cell_type": "code",
   "execution_count": 152,
   "metadata": {},
   "outputs": [
    {
     "data": {
      "text/plain": [
       "{'am': 0,\n",
       " 'are': 1,\n",
       " 'awesome': 2,\n",
       " 'best': 3,\n",
       " 'hello': 4,\n",
       " 'how': 5,\n",
       " 'i': 6,\n",
       " 'is': 7,\n",
       " 'language': 8,\n",
       " 'modern': 9,\n",
       " 'python': 10,\n",
       " 'this': 11,\n",
       " 'time': 12,\n",
       " 'you': 13}"
      ]
     },
     "execution_count": 152,
     "metadata": {},
     "output_type": "execute_result"
    }
   ],
   "source": [
    "vector.vocab_"
   ]
  }
 ],
 "metadata": {
  "kernelspec": {
   "display_name": "base",
   "language": "python",
   "name": "python3"
  },
  "language_info": {
   "codemirror_mode": {
    "name": "ipython",
    "version": 3
   },
   "file_extension": ".py",
   "mimetype": "text/x-python",
   "name": "python",
   "nbconvert_exporter": "python",
   "pygments_lexer": "ipython3",
   "version": "3.10.9"
  }
 },
 "nbformat": 4,
 "nbformat_minor": 2
}
